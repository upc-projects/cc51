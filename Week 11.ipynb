{
 "cells": [
  {
   "cell_type": "code",
   "execution_count": 1,
   "metadata": {},
   "outputs": [],
   "source": [
    "apr14 <- read.csv(\"https://raw.githubusercontent.com/fivethirtyeight/uber-tlc-foil-response/master/uber-trip-data/uber-raw-data-apr14.csv\")\n",
    "may14 <- read.csv(\"https://raw.githubusercontent.com/fivethirtyeight/uber-tlc-foil-response/master/uber-trip-data/uber-raw-data-may14.csv\")\n",
    "jun14 <- read.csv(\"https://raw.githubusercontent.com/fivethirtyeight/uber-tlc-foil-response/master/uber-trip-data/uber-raw-data-jun14.csv\")\n",
    "jul14 <- read.csv(\"https://raw.githubusercontent.com/fivethirtyeight/uber-tlc-foil-response/master/uber-trip-data/uber-raw-data-jul14.csv\")\n",
    "aug14 <- read.csv(\"https://raw.githubusercontent.com/fivethirtyeight/uber-tlc-foil-response/master/uber-trip-data/uber-raw-data-aug14.csv\")\n",
    "sep14 <- read.csv(\"https://raw.githubusercontent.com/fivethirtyeight/uber-tlc-foil-response/master/uber-trip-data/uber-raw-data-sep14.csv\")"
   ]
  },
  {
   "cell_type": "code",
   "execution_count": 2,
   "metadata": {},
   "outputs": [
    {
     "name": "stderr",
     "output_type": "stream",
     "text": [
      "Installing package into ‘/usr/local/lib/R/3.6/site-library’\n",
      "(as ‘lib’ is unspecified)\n",
      "\n"
     ]
    }
   ],
   "source": [
    "install.packages(\"dplyr\")"
   ]
  },
  {
   "cell_type": "code",
   "execution_count": 3,
   "metadata": {},
   "outputs": [
    {
     "name": "stderr",
     "output_type": "stream",
     "text": [
      "Installing package into ‘/usr/local/lib/R/3.6/site-library’\n",
      "(as ‘lib’ is unspecified)\n",
      "\n"
     ]
    }
   ],
   "source": [
    "install.packages(\"scales\")"
   ]
  },
  {
   "cell_type": "code",
   "execution_count": 4,
   "metadata": {},
   "outputs": [
    {
     "name": "stderr",
     "output_type": "stream",
     "text": [
      "\n",
      "Attaching package: ‘dplyr’\n",
      "\n",
      "\n",
      "The following objects are masked from ‘package:stats’:\n",
      "\n",
      "    filter, lag\n",
      "\n",
      "\n",
      "The following objects are masked from ‘package:base’:\n",
      "\n",
      "    intersect, setdiff, setequal, union\n",
      "\n",
      "\n"
     ]
    }
   ],
   "source": [
    "library(dplyr)\n",
    "data14 <- bind_rows(apr14, may14, jun14, jul14, aug14, sep14)"
   ]
  },
  {
   "cell_type": "code",
   "execution_count": 5,
   "metadata": {},
   "outputs": [
    {
     "data": {
      "text/plain": [
       "              Date.Time            Lat             Lon             Base        \n",
       " 4/7/2014 20:21:00 :     97   Min.   :39.66   Min.   :-74.93   B02512: 205673  \n",
       " 6/13/2014 18:03:00:     88   1st Qu.:40.72   1st Qu.:-74.00   B02598:1393113  \n",
       " 4/7/2014 20:22:00 :     87   Median :40.74   Median :-73.98   B02617:1458853  \n",
       " 9/13/2014 18:44:00:     82   Mean   :40.74   Mean   :-73.97   B02682:1212789  \n",
       " 9/13/2014 18:41:00:     80   3rd Qu.:40.76   3rd Qu.:-73.97   B02764: 263899  \n",
       " 7/15/2014 19:30:00:     79   Max.   :42.12   Max.   :-72.07                   \n",
       " (Other)           :4533814                                                    "
      ]
     },
     "metadata": {},
     "output_type": "display_data"
    }
   ],
   "source": [
    "summary(data14)"
   ]
  },
  {
   "cell_type": "code",
   "execution_count": 2,
   "metadata": {},
   "outputs": [
    {
     "name": "stderr",
     "output_type": "stream",
     "text": [
      "Installing package into ‘/usr/local/lib/R/3.6/site-library’\n",
      "(as ‘lib’ is unspecified)\n",
      "\n",
      "also installing the dependencies ‘readr’, ‘haven’, ‘readxl’, ‘rio’, ‘car’\n",
      "\n",
      "\n",
      "Warning message in install.packages(\"VIM\"):\n",
      "“installation of package ‘readr’ had non-zero exit status”\n",
      "Warning message in install.packages(\"VIM\"):\n",
      "“installation of package ‘readxl’ had non-zero exit status”\n",
      "Warning message in install.packages(\"VIM\"):\n",
      "“installation of package ‘haven’ had non-zero exit status”\n",
      "Warning message in install.packages(\"VIM\"):\n",
      "“installation of package ‘rio’ had non-zero exit status”\n",
      "Warning message in install.packages(\"VIM\"):\n",
      "“installation of package ‘car’ had non-zero exit status”\n",
      "Warning message in install.packages(\"VIM\"):\n",
      "“installation of package ‘VIM’ had non-zero exit status”\n"
     ]
    }
   ],
   "source": [
    "install.packages(\"VIM\")"
   ]
  },
  {
   "cell_type": "code",
   "execution_count": 5,
   "metadata": {},
   "outputs": [
    {
     "ename": "ERROR",
     "evalue": "Error in library(\"VIM\"): there is no package called ‘VIM’\n",
     "output_type": "error",
     "traceback": [
      "Error in library(\"VIM\"): there is no package called ‘VIM’\nTraceback:\n",
      "1. library(\"VIM\")"
     ]
    }
   ],
   "source": [
    "library('VIM')\n",
    "aggr(data14)"
   ]
  },
  {
   "cell_type": "code",
   "execution_count": null,
   "metadata": {},
   "outputs": [],
   "source": []
  }
 ],
 "metadata": {
  "kernelspec": {
   "display_name": "R 3.3",
   "language": "R",
   "name": "ir33"
  },
  "language_info": {
   "codemirror_mode": "r",
   "file_extension": ".r",
   "mimetype": "text/x-r-source",
   "name": "R",
   "pygments_lexer": "r",
   "version": "3.6.3"
  }
 },
 "nbformat": 4,
 "nbformat_minor": 2
}
