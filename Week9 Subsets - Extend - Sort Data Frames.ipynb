{
 "cells": [
  {
   "cell_type": "code",
   "execution_count": 28,
   "metadata": {},
   "outputs": [],
   "source": [
    "name <- c(\"anne\", \"pete\", \"frank\", \"julia\", \"katy\")\n",
    "age <- c(62,83,24,65,16)\n",
    "child <- c(FALSE, TRUE, TRUE, FALSE, TRUE)\n",
    "people <- data.frame(name, age, child, stringsAsFactors = FALSE)\n"
   ]
  },
  {
   "cell_type": "code",
   "execution_count": 29,
   "metadata": {},
   "outputs": [
    {
     "name": "stdout",
     "output_type": "stream",
     "text": [
      "   name age child\n",
      "1  anne  62 FALSE\n",
      "2  pete  83  TRUE\n",
      "3 frank  24  TRUE\n",
      "4 julia  65 FALSE\n",
      "5  katy  16  TRUE\n"
     ]
    }
   ],
   "source": [
    "print(people)"
   ]
  },
  {
   "cell_type": "code",
   "execution_count": 30,
   "metadata": {},
   "outputs": [
    {
     "data": {
      "text/html": [
       "TRUE"
      ],
      "text/latex": [
       "TRUE"
      ],
      "text/markdown": [
       "TRUE"
      ],
      "text/plain": [
       "[1] TRUE"
      ]
     },
     "metadata": {},
     "output_type": "display_data"
    },
    {
     "data": {
      "text/html": [
       "24"
      ],
      "text/latex": [
       "24"
      ],
      "text/markdown": [
       "24"
      ],
      "text/plain": [
       "[1] 24"
      ]
     },
     "metadata": {},
     "output_type": "display_data"
    },
    {
     "data": {
      "text/html": [
       "<table>\n",
       "<caption>A data.frame: 1 × 3</caption>\n",
       "<thead>\n",
       "\t<tr><th></th><th scope=col>name</th><th scope=col>age</th><th scope=col>child</th></tr>\n",
       "\t<tr><th></th><th scope=col>&lt;chr&gt;</th><th scope=col>&lt;dbl&gt;</th><th scope=col>&lt;lgl&gt;</th></tr>\n",
       "</thead>\n",
       "<tbody>\n",
       "\t<tr><th scope=row>1</th><td>anne</td><td>62</td><td>FALSE</td></tr>\n",
       "</tbody>\n",
       "</table>\n"
      ],
      "text/latex": [
       "A data.frame: 1 × 3\n",
       "\\begin{tabular}{r|lll}\n",
       "  & name & age & child\\\\\n",
       "  & <chr> & <dbl> & <lgl>\\\\\n",
       "\\hline\n",
       "\t1 & anne & 62 & FALSE\\\\\n",
       "\\end{tabular}\n"
      ],
      "text/markdown": [
       "\n",
       "A data.frame: 1 × 3\n",
       "\n",
       "| <!--/--> | name &lt;chr&gt; | age &lt;dbl&gt; | child &lt;lgl&gt; |\n",
       "|---|---|---|---|\n",
       "| 1 | anne | 62 | FALSE |\n",
       "\n"
      ],
      "text/plain": [
       "  name age child\n",
       "1 anne 62  FALSE"
      ]
     },
     "metadata": {},
     "output_type": "display_data"
    },
    {
     "data": {
      "text/html": [
       "<style>\n",
       ".list-inline {list-style: none; margin:0; padding: 0}\n",
       ".list-inline>li {display: inline-block}\n",
       ".list-inline>li:not(:last-child)::after {content: \"\\00b7\"; padding: 0 .5ex}\n",
       "</style>\n",
       "<ol class=list-inline><li>FALSE</li><li>TRUE</li><li>TRUE</li><li>FALSE</li><li>TRUE</li></ol>\n"
      ],
      "text/latex": [
       "\\begin{enumerate*}\n",
       "\\item FALSE\n",
       "\\item TRUE\n",
       "\\item TRUE\n",
       "\\item FALSE\n",
       "\\item TRUE\n",
       "\\end{enumerate*}\n"
      ],
      "text/markdown": [
       "1. FALSE\n",
       "2. TRUE\n",
       "3. TRUE\n",
       "4. FALSE\n",
       "5. TRUE\n",
       "\n",
       "\n"
      ],
      "text/plain": [
       "[1] FALSE  TRUE  TRUE FALSE  TRUE"
      ]
     },
     "metadata": {},
     "output_type": "display_data"
    }
   ],
   "source": [
    "people[2,3]\n",
    "people[3, \"age\"]\n",
    "people[1,]\n",
    "people[,\"child\"]"
   ]
  },
  {
   "cell_type": "code",
   "execution_count": 31,
   "metadata": {},
   "outputs": [
    {
     "data": {
      "text/html": [
       "<table>\n",
       "<caption>A data.frame: 5 × 1</caption>\n",
       "<thead>\n",
       "\t<tr><th scope=col>age</th></tr>\n",
       "\t<tr><th scope=col>&lt;dbl&gt;</th></tr>\n",
       "</thead>\n",
       "<tbody>\n",
       "\t<tr><td>62</td></tr>\n",
       "\t<tr><td>83</td></tr>\n",
       "\t<tr><td>24</td></tr>\n",
       "\t<tr><td>65</td></tr>\n",
       "\t<tr><td>16</td></tr>\n",
       "</tbody>\n",
       "</table>\n"
      ],
      "text/latex": [
       "A data.frame: 5 × 1\n",
       "\\begin{tabular}{l}\n",
       " age\\\\\n",
       " <dbl>\\\\\n",
       "\\hline\n",
       "\t 62\\\\\n",
       "\t 83\\\\\n",
       "\t 24\\\\\n",
       "\t 65\\\\\n",
       "\t 16\\\\\n",
       "\\end{tabular}\n"
      ],
      "text/markdown": [
       "\n",
       "A data.frame: 5 × 1\n",
       "\n",
       "| age &lt;dbl&gt; |\n",
       "|---|\n",
       "| 62 |\n",
       "| 83 |\n",
       "| 24 |\n",
       "| 65 |\n",
       "| 16 |\n",
       "\n"
      ],
      "text/plain": [
       "  age\n",
       "1 62 \n",
       "2 83 \n",
       "3 24 \n",
       "4 65 \n",
       "5 16 "
      ]
     },
     "metadata": {},
     "output_type": "display_data"
    },
    {
     "data": {
      "text/html": [
       "<table>\n",
       "<caption>A data.frame: 2 × 2</caption>\n",
       "<thead>\n",
       "\t<tr><th></th><th scope=col>age</th><th scope=col>child</th></tr>\n",
       "\t<tr><th></th><th scope=col>&lt;dbl&gt;</th><th scope=col>&lt;lgl&gt;</th></tr>\n",
       "</thead>\n",
       "<tbody>\n",
       "\t<tr><th scope=row>3</th><td>24</td><td>TRUE</td></tr>\n",
       "\t<tr><th scope=row>5</th><td>16</td><td>TRUE</td></tr>\n",
       "</tbody>\n",
       "</table>\n"
      ],
      "text/latex": [
       "A data.frame: 2 × 2\n",
       "\\begin{tabular}{r|ll}\n",
       "  & age & child\\\\\n",
       "  & <dbl> & <lgl>\\\\\n",
       "\\hline\n",
       "\t3 & 24 & TRUE\\\\\n",
       "\t5 & 16 & TRUE\\\\\n",
       "\\end{tabular}\n"
      ],
      "text/markdown": [
       "\n",
       "A data.frame: 2 × 2\n",
       "\n",
       "| <!--/--> | age &lt;dbl&gt; | child &lt;lgl&gt; |\n",
       "|---|---|---|\n",
       "| 3 | 24 | TRUE |\n",
       "| 5 | 16 | TRUE |\n",
       "\n"
      ],
      "text/plain": [
       "  age child\n",
       "3 24  TRUE \n",
       "5 16  TRUE "
      ]
     },
     "metadata": {},
     "output_type": "display_data"
    }
   ],
   "source": [
    "people[2]\n",
    "people[c(3,5), c(\"age\", \"child\")]"
   ]
  },
  {
   "cell_type": "code",
   "execution_count": 32,
   "metadata": {},
   "outputs": [
    {
     "data": {
      "text/html": [
       "<style>\n",
       ".list-inline {list-style: none; margin:0; padding: 0}\n",
       ".list-inline>li {display: inline-block}\n",
       ".list-inline>li:not(:last-child)::after {content: \"\\00b7\"; padding: 0 .5ex}\n",
       "</style>\n",
       "<ol class=list-inline><li>62</li><li>83</li><li>24</li><li>65</li><li>16</li></ol>\n"
      ],
      "text/latex": [
       "\\begin{enumerate*}\n",
       "\\item 62\n",
       "\\item 83\n",
       "\\item 24\n",
       "\\item 65\n",
       "\\item 16\n",
       "\\end{enumerate*}\n"
      ],
      "text/markdown": [
       "1. 62\n",
       "2. 83\n",
       "3. 24\n",
       "4. 65\n",
       "5. 16\n",
       "\n",
       "\n"
      ],
      "text/plain": [
       "[1] 62 83 24 65 16"
      ]
     },
     "metadata": {},
     "output_type": "display_data"
    },
    {
     "data": {
      "text/html": [
       "<style>\n",
       ".list-inline {list-style: none; margin:0; padding: 0}\n",
       ".list-inline>li {display: inline-block}\n",
       ".list-inline>li:not(:last-child)::after {content: \"\\00b7\"; padding: 0 .5ex}\n",
       "</style>\n",
       "<ol class=list-inline><li>62</li><li>83</li><li>24</li><li>65</li><li>16</li></ol>\n"
      ],
      "text/latex": [
       "\\begin{enumerate*}\n",
       "\\item 62\n",
       "\\item 83\n",
       "\\item 24\n",
       "\\item 65\n",
       "\\item 16\n",
       "\\end{enumerate*}\n"
      ],
      "text/markdown": [
       "1. 62\n",
       "2. 83\n",
       "3. 24\n",
       "4. 65\n",
       "5. 16\n",
       "\n",
       "\n"
      ],
      "text/plain": [
       "[1] 62 83 24 65 16"
      ]
     },
     "metadata": {},
     "output_type": "display_data"
    },
    {
     "data": {
      "text/html": [
       "<style>\n",
       ".list-inline {list-style: none; margin:0; padding: 0}\n",
       ".list-inline>li {display: inline-block}\n",
       ".list-inline>li:not(:last-child)::after {content: \"\\00b7\"; padding: 0 .5ex}\n",
       "</style>\n",
       "<ol class=list-inline><li>62</li><li>83</li><li>24</li><li>65</li><li>16</li></ol>\n"
      ],
      "text/latex": [
       "\\begin{enumerate*}\n",
       "\\item 62\n",
       "\\item 83\n",
       "\\item 24\n",
       "\\item 65\n",
       "\\item 16\n",
       "\\end{enumerate*}\n"
      ],
      "text/markdown": [
       "1. 62\n",
       "2. 83\n",
       "3. 24\n",
       "4. 65\n",
       "5. 16\n",
       "\n",
       "\n"
      ],
      "text/plain": [
       "[1] 62 83 24 65 16"
      ]
     },
     "metadata": {},
     "output_type": "display_data"
    }
   ],
   "source": [
    "people$age\n",
    "people[[\"age\"]]\n",
    "people[[2]]"
   ]
  },
  {
   "cell_type": "code",
   "execution_count": 33,
   "metadata": {},
   "outputs": [
    {
     "data": {
      "text/html": [
       "<table>\n",
       "<caption>A data.frame: 5 × 1</caption>\n",
       "<thead>\n",
       "\t<tr><th scope=col>age</th></tr>\n",
       "\t<tr><th scope=col>&lt;dbl&gt;</th></tr>\n",
       "</thead>\n",
       "<tbody>\n",
       "\t<tr><td>62</td></tr>\n",
       "\t<tr><td>83</td></tr>\n",
       "\t<tr><td>24</td></tr>\n",
       "\t<tr><td>65</td></tr>\n",
       "\t<tr><td>16</td></tr>\n",
       "</tbody>\n",
       "</table>\n"
      ],
      "text/latex": [
       "A data.frame: 5 × 1\n",
       "\\begin{tabular}{l}\n",
       " age\\\\\n",
       " <dbl>\\\\\n",
       "\\hline\n",
       "\t 62\\\\\n",
       "\t 83\\\\\n",
       "\t 24\\\\\n",
       "\t 65\\\\\n",
       "\t 16\\\\\n",
       "\\end{tabular}\n"
      ],
      "text/markdown": [
       "\n",
       "A data.frame: 5 × 1\n",
       "\n",
       "| age &lt;dbl&gt; |\n",
       "|---|\n",
       "| 62 |\n",
       "| 83 |\n",
       "| 24 |\n",
       "| 65 |\n",
       "| 16 |\n",
       "\n"
      ],
      "text/plain": [
       "  age\n",
       "1 62 \n",
       "2 83 \n",
       "3 24 \n",
       "4 65 \n",
       "5 16 "
      ]
     },
     "metadata": {},
     "output_type": "display_data"
    }
   ],
   "source": [
    "people[\"age\"]"
   ]
  },
  {
   "cell_type": "code",
   "execution_count": 34,
   "metadata": {},
   "outputs": [],
   "source": [
    "# Add colums or rows\n",
    "height <- c(172, 173, 176, 177, 182)\n",
    "people$height <- height\n",
    "people[[\"height\"]] <- height"
   ]
  },
  {
   "cell_type": "code",
   "execution_count": 35,
   "metadata": {},
   "outputs": [
    {
     "name": "stdout",
     "output_type": "stream",
     "text": [
      "   name age child height\n",
      "1  anne  62 FALSE    172\n",
      "2  pete  83  TRUE    173\n",
      "3 frank  24  TRUE    176\n",
      "4 julia  65 FALSE    177\n",
      "5  katy  16  TRUE    182\n"
     ]
    }
   ],
   "source": [
    "print(people)"
   ]
  },
  {
   "cell_type": "code",
   "execution_count": 36,
   "metadata": {},
   "outputs": [
    {
     "data": {
      "text/html": [
       "<table>\n",
       "<caption>A data.frame: 5 × 5</caption>\n",
       "<thead>\n",
       "\t<tr><th scope=col>name</th><th scope=col>age</th><th scope=col>child</th><th scope=col>height</th><th scope=col>weight</th></tr>\n",
       "\t<tr><th scope=col>&lt;chr&gt;</th><th scope=col>&lt;dbl&gt;</th><th scope=col>&lt;lgl&gt;</th><th scope=col>&lt;dbl&gt;</th><th scope=col>&lt;dbl&gt;</th></tr>\n",
       "</thead>\n",
       "<tbody>\n",
       "\t<tr><td>anne </td><td>62</td><td>FALSE</td><td>172</td><td>87</td></tr>\n",
       "\t<tr><td>pete </td><td>83</td><td> TRUE</td><td>173</td><td>95</td></tr>\n",
       "\t<tr><td>frank</td><td>24</td><td> TRUE</td><td>176</td><td>34</td></tr>\n",
       "\t<tr><td>julia</td><td>65</td><td>FALSE</td><td>177</td><td>59</td></tr>\n",
       "\t<tr><td>katy </td><td>16</td><td> TRUE</td><td>182</td><td>53</td></tr>\n",
       "</tbody>\n",
       "</table>\n"
      ],
      "text/latex": [
       "A data.frame: 5 × 5\n",
       "\\begin{tabular}{lllll}\n",
       " name & age & child & height & weight\\\\\n",
       " <chr> & <dbl> & <lgl> & <dbl> & <dbl>\\\\\n",
       "\\hline\n",
       "\t anne  & 62 & FALSE & 172 & 87\\\\\n",
       "\t pete  & 83 &  TRUE & 173 & 95\\\\\n",
       "\t frank & 24 &  TRUE & 176 & 34\\\\\n",
       "\t julia & 65 & FALSE & 177 & 59\\\\\n",
       "\t katy  & 16 &  TRUE & 182 & 53\\\\\n",
       "\\end{tabular}\n"
      ],
      "text/markdown": [
       "\n",
       "A data.frame: 5 × 5\n",
       "\n",
       "| name &lt;chr&gt; | age &lt;dbl&gt; | child &lt;lgl&gt; | height &lt;dbl&gt; | weight &lt;dbl&gt; |\n",
       "|---|---|---|---|---|\n",
       "| anne  | 62 | FALSE | 172 | 87 |\n",
       "| pete  | 83 |  TRUE | 173 | 95 |\n",
       "| frank | 24 |  TRUE | 176 | 34 |\n",
       "| julia | 65 | FALSE | 177 | 59 |\n",
       "| katy  | 16 |  TRUE | 182 | 53 |\n",
       "\n"
      ],
      "text/plain": [
       "  name  age child height weight\n",
       "1 anne  62  FALSE 172    87    \n",
       "2 pete  83   TRUE 173    95    \n",
       "3 frank 24   TRUE 176    34    \n",
       "4 julia 65  FALSE 177    59    \n",
       "5 katy  16   TRUE 182    53    "
      ]
     },
     "metadata": {},
     "output_type": "display_data"
    }
   ],
   "source": [
    "weight <- c(87,95,34,59,53)\n",
    "cbind(people, weight)"
   ]
  },
  {
   "cell_type": "code",
   "execution_count": 37,
   "metadata": {},
   "outputs": [
    {
     "data": {
      "text/html": [
       "<table>\n",
       "<caption>A data.frame: 6 × 4</caption>\n",
       "<thead>\n",
       "\t<tr><th scope=col>name</th><th scope=col>age</th><th scope=col>child</th><th scope=col>height</th></tr>\n",
       "\t<tr><th scope=col>&lt;chr&gt;</th><th scope=col>&lt;dbl&gt;</th><th scope=col>&lt;lgl&gt;</th><th scope=col>&lt;dbl&gt;</th></tr>\n",
       "</thead>\n",
       "<tbody>\n",
       "\t<tr><td>anne </td><td>62</td><td>FALSE</td><td>172</td></tr>\n",
       "\t<tr><td>pete </td><td>83</td><td> TRUE</td><td>173</td></tr>\n",
       "\t<tr><td>frank</td><td>24</td><td> TRUE</td><td>176</td></tr>\n",
       "\t<tr><td>julia</td><td>65</td><td>FALSE</td><td>177</td></tr>\n",
       "\t<tr><td>katy </td><td>16</td><td> TRUE</td><td>182</td></tr>\n",
       "\t<tr><td>Tom  </td><td>42</td><td>FALSE</td><td>159</td></tr>\n",
       "</tbody>\n",
       "</table>\n"
      ],
      "text/latex": [
       "A data.frame: 6 × 4\n",
       "\\begin{tabular}{llll}\n",
       " name & age & child & height\\\\\n",
       " <chr> & <dbl> & <lgl> & <dbl>\\\\\n",
       "\\hline\n",
       "\t anne  & 62 & FALSE & 172\\\\\n",
       "\t pete  & 83 &  TRUE & 173\\\\\n",
       "\t frank & 24 &  TRUE & 176\\\\\n",
       "\t julia & 65 & FALSE & 177\\\\\n",
       "\t katy  & 16 &  TRUE & 182\\\\\n",
       "\t Tom   & 42 & FALSE & 159\\\\\n",
       "\\end{tabular}\n"
      ],
      "text/markdown": [
       "\n",
       "A data.frame: 6 × 4\n",
       "\n",
       "| name &lt;chr&gt; | age &lt;dbl&gt; | child &lt;lgl&gt; | height &lt;dbl&gt; |\n",
       "|---|---|---|---|\n",
       "| anne  | 62 | FALSE | 172 |\n",
       "| pete  | 83 |  TRUE | 173 |\n",
       "| frank | 24 |  TRUE | 176 |\n",
       "| julia | 65 | FALSE | 177 |\n",
       "| katy  | 16 |  TRUE | 182 |\n",
       "| Tom   | 42 | FALSE | 159 |\n",
       "\n"
      ],
      "text/plain": [
       "  name  age child height\n",
       "1 anne  62  FALSE 172   \n",
       "2 pete  83   TRUE 173   \n",
       "3 frank 24   TRUE 176   \n",
       "4 julia 65  FALSE 177   \n",
       "5 katy  16   TRUE 182   \n",
       "6 Tom   42  FALSE 159   "
      ]
     },
     "metadata": {},
     "output_type": "display_data"
    }
   ],
   "source": [
    "tom <- data.frame(name = \"Tom\", age = 42, child = FALSE, height= 159)\n",
    "rbind(people, tom)"
   ]
  },
  {
   "cell_type": "code",
   "execution_count": 38,
   "metadata": {},
   "outputs": [
    {
     "data": {
      "text/html": [
       "<style>\n",
       ".list-inline {list-style: none; margin:0; padding: 0}\n",
       ".list-inline>li {display: inline-block}\n",
       ".list-inline>li:not(:last-child)::after {content: \"\\00b7\"; padding: 0 .5ex}\n",
       "</style>\n",
       "<ol class=list-inline><li>16</li><li>24</li><li>62</li><li>65</li><li>83</li></ol>\n"
      ],
      "text/latex": [
       "\\begin{enumerate*}\n",
       "\\item 16\n",
       "\\item 24\n",
       "\\item 62\n",
       "\\item 65\n",
       "\\item 83\n",
       "\\end{enumerate*}\n"
      ],
      "text/markdown": [
       "1. 16\n",
       "2. 24\n",
       "3. 62\n",
       "4. 65\n",
       "5. 83\n",
       "\n",
       "\n"
      ],
      "text/plain": [
       "[1] 16 24 62 65 83"
      ]
     },
     "metadata": {},
     "output_type": "display_data"
    },
    {
     "data": {
      "text/html": [
       "<style>\n",
       ".list-inline {list-style: none; margin:0; padding: 0}\n",
       ".list-inline>li {display: inline-block}\n",
       ".list-inline>li:not(:last-child)::after {content: \"\\00b7\"; padding: 0 .5ex}\n",
       "</style>\n",
       "<ol class=list-inline><li>5</li><li>3</li><li>1</li><li>4</li><li>2</li></ol>\n"
      ],
      "text/latex": [
       "\\begin{enumerate*}\n",
       "\\item 5\n",
       "\\item 3\n",
       "\\item 1\n",
       "\\item 4\n",
       "\\item 2\n",
       "\\end{enumerate*}\n"
      ],
      "text/markdown": [
       "1. 5\n",
       "2. 3\n",
       "3. 1\n",
       "4. 4\n",
       "5. 2\n",
       "\n",
       "\n"
      ],
      "text/plain": [
       "[1] 5 3 1 4 2"
      ]
     },
     "metadata": {},
     "output_type": "display_data"
    }
   ],
   "source": [
    "sort(people$age)\n",
    "ranks <- order(people$age)\n",
    "ranks"
   ]
  },
  {
   "cell_type": "code",
   "execution_count": 40,
   "metadata": {},
   "outputs": [
    {
     "data": {
      "text/html": [
       "<style>\n",
       ".list-inline {list-style: none; margin:0; padding: 0}\n",
       ".list-inline>li {display: inline-block}\n",
       ".list-inline>li:not(:last-child)::after {content: \"\\00b7\"; padding: 0 .5ex}\n",
       "</style>\n",
       "<ol class=list-inline><li>62</li><li>83</li><li>24</li><li>65</li><li>16</li></ol>\n"
      ],
      "text/latex": [
       "\\begin{enumerate*}\n",
       "\\item 62\n",
       "\\item 83\n",
       "\\item 24\n",
       "\\item 65\n",
       "\\item 16\n",
       "\\end{enumerate*}\n"
      ],
      "text/markdown": [
       "1. 62\n",
       "2. 83\n",
       "3. 24\n",
       "4. 65\n",
       "5. 16\n",
       "\n",
       "\n"
      ],
      "text/plain": [
       "[1] 62 83 24 65 16"
      ]
     },
     "metadata": {},
     "output_type": "display_data"
    },
    {
     "data": {
      "text/html": [
       "<table>\n",
       "<caption>A data.frame: 5 × 4</caption>\n",
       "<thead>\n",
       "\t<tr><th></th><th scope=col>name</th><th scope=col>age</th><th scope=col>child</th><th scope=col>height</th></tr>\n",
       "\t<tr><th></th><th scope=col>&lt;chr&gt;</th><th scope=col>&lt;dbl&gt;</th><th scope=col>&lt;lgl&gt;</th><th scope=col>&lt;dbl&gt;</th></tr>\n",
       "</thead>\n",
       "<tbody>\n",
       "\t<tr><th scope=row>5</th><td>katy </td><td>16</td><td> TRUE</td><td>182</td></tr>\n",
       "\t<tr><th scope=row>3</th><td>frank</td><td>24</td><td> TRUE</td><td>176</td></tr>\n",
       "\t<tr><th scope=row>1</th><td>anne </td><td>62</td><td>FALSE</td><td>172</td></tr>\n",
       "\t<tr><th scope=row>4</th><td>julia</td><td>65</td><td>FALSE</td><td>177</td></tr>\n",
       "\t<tr><th scope=row>2</th><td>pete </td><td>83</td><td> TRUE</td><td>173</td></tr>\n",
       "</tbody>\n",
       "</table>\n"
      ],
      "text/latex": [
       "A data.frame: 5 × 4\n",
       "\\begin{tabular}{r|llll}\n",
       "  & name & age & child & height\\\\\n",
       "  & <chr> & <dbl> & <lgl> & <dbl>\\\\\n",
       "\\hline\n",
       "\t5 & katy  & 16 &  TRUE & 182\\\\\n",
       "\t3 & frank & 24 &  TRUE & 176\\\\\n",
       "\t1 & anne  & 62 & FALSE & 172\\\\\n",
       "\t4 & julia & 65 & FALSE & 177\\\\\n",
       "\t2 & pete  & 83 &  TRUE & 173\\\\\n",
       "\\end{tabular}\n"
      ],
      "text/markdown": [
       "\n",
       "A data.frame: 5 × 4\n",
       "\n",
       "| <!--/--> | name &lt;chr&gt; | age &lt;dbl&gt; | child &lt;lgl&gt; | height &lt;dbl&gt; |\n",
       "|---|---|---|---|---|\n",
       "| 5 | katy  | 16 |  TRUE | 182 |\n",
       "| 3 | frank | 24 |  TRUE | 176 |\n",
       "| 1 | anne  | 62 | FALSE | 172 |\n",
       "| 4 | julia | 65 | FALSE | 177 |\n",
       "| 2 | pete  | 83 |  TRUE | 173 |\n",
       "\n"
      ],
      "text/plain": [
       "  name  age child height\n",
       "5 katy  16   TRUE 182   \n",
       "3 frank 24   TRUE 176   \n",
       "1 anne  62  FALSE 172   \n",
       "4 julia 65  FALSE 177   \n",
       "2 pete  83   TRUE 173   "
      ]
     },
     "metadata": {},
     "output_type": "display_data"
    }
   ],
   "source": [
    "people$age\n",
    "people[ranks,]"
   ]
  },
  {
   "cell_type": "code",
   "execution_count": 41,
   "metadata": {},
   "outputs": [
    {
     "data": {
      "text/html": [
       "<table>\n",
       "<caption>A data.frame: 5 × 4</caption>\n",
       "<thead>\n",
       "\t<tr><th></th><th scope=col>name</th><th scope=col>age</th><th scope=col>child</th><th scope=col>height</th></tr>\n",
       "\t<tr><th></th><th scope=col>&lt;chr&gt;</th><th scope=col>&lt;dbl&gt;</th><th scope=col>&lt;lgl&gt;</th><th scope=col>&lt;dbl&gt;</th></tr>\n",
       "</thead>\n",
       "<tbody>\n",
       "\t<tr><th scope=row>2</th><td>pete </td><td>83</td><td> TRUE</td><td>173</td></tr>\n",
       "\t<tr><th scope=row>4</th><td>julia</td><td>65</td><td>FALSE</td><td>177</td></tr>\n",
       "\t<tr><th scope=row>1</th><td>anne </td><td>62</td><td>FALSE</td><td>172</td></tr>\n",
       "\t<tr><th scope=row>3</th><td>frank</td><td>24</td><td> TRUE</td><td>176</td></tr>\n",
       "\t<tr><th scope=row>5</th><td>katy </td><td>16</td><td> TRUE</td><td>182</td></tr>\n",
       "</tbody>\n",
       "</table>\n"
      ],
      "text/latex": [
       "A data.frame: 5 × 4\n",
       "\\begin{tabular}{r|llll}\n",
       "  & name & age & child & height\\\\\n",
       "  & <chr> & <dbl> & <lgl> & <dbl>\\\\\n",
       "\\hline\n",
       "\t2 & pete  & 83 &  TRUE & 173\\\\\n",
       "\t4 & julia & 65 & FALSE & 177\\\\\n",
       "\t1 & anne  & 62 & FALSE & 172\\\\\n",
       "\t3 & frank & 24 &  TRUE & 176\\\\\n",
       "\t5 & katy  & 16 &  TRUE & 182\\\\\n",
       "\\end{tabular}\n"
      ],
      "text/markdown": [
       "\n",
       "A data.frame: 5 × 4\n",
       "\n",
       "| <!--/--> | name &lt;chr&gt; | age &lt;dbl&gt; | child &lt;lgl&gt; | height &lt;dbl&gt; |\n",
       "|---|---|---|---|---|\n",
       "| 2 | pete  | 83 |  TRUE | 173 |\n",
       "| 4 | julia | 65 | FALSE | 177 |\n",
       "| 1 | anne  | 62 | FALSE | 172 |\n",
       "| 3 | frank | 24 |  TRUE | 176 |\n",
       "| 5 | katy  | 16 |  TRUE | 182 |\n",
       "\n"
      ],
      "text/plain": [
       "  name  age child height\n",
       "2 pete  83   TRUE 173   \n",
       "4 julia 65  FALSE 177   \n",
       "1 anne  62  FALSE 172   \n",
       "3 frank 24   TRUE 176   \n",
       "5 katy  16   TRUE 182   "
      ]
     },
     "metadata": {},
     "output_type": "display_data"
    }
   ],
   "source": [
    "people[order(people$age, decreasing = TRUE), ]"
   ]
  }
 ],
 "metadata": {
  "kernelspec": {
   "display_name": "R 3.3",
   "language": "R",
   "name": "ir33"
  },
  "language_info": {
   "codemirror_mode": "r",
   "file_extension": ".r",
   "mimetype": "text/x-r-source",
   "name": "R",
   "pygments_lexer": "r",
   "version": "3.6.3"
  }
 },
 "nbformat": 4,
 "nbformat_minor": 2
}
