{
 "cells": [
  {
   "cell_type": "code",
   "execution_count": 2,
   "metadata": {},
   "outputs": [
    {
     "name": "stdout",
     "output_type": "stream",
     "text": [
      "[1] \"hello world in R\"\n"
     ]
    }
   ],
   "source": [
    "# Hello world in R\n",
    "print(\"hello world in R\")"
   ]
  },
  {
   "cell_type": "code",
   "execution_count": 4,
   "metadata": {},
   "outputs": [],
   "source": [
    "countries <- c(\"peru\", \"brasil\")"
   ]
  },
  {
   "cell_type": "code",
   "execution_count": 5,
   "metadata": {},
   "outputs": [],
   "source": [
    "poblations <- c(1212, 1212)"
   ]
  },
  {
   "cell_type": "code",
   "execution_count": 6,
   "metadata": {},
   "outputs": [],
   "source": [
    "names(countries) <- poblations"
   ]
  },
  {
   "cell_type": "code",
   "execution_count": 8,
   "metadata": {},
   "outputs": [
    {
     "name": "stdout",
     "output_type": "stream",
     "text": [
      "    1212     1212 \n",
      "  \"peru\" \"brasil\" \n"
     ]
    }
   ],
   "source": [
    "print(countries)"
   ]
  },
  {
   "cell_type": "markdown",
   "metadata": {},
   "source": [
    "# Ejercicios"
   ]
  },
  {
   "cell_type": "code",
   "execution_count": 22,
   "metadata": {},
   "outputs": [
    {
     "data": {
      "text/html": [
       "9.52730643120594"
      ],
      "text/latex": [
       "9.52730643120594"
      ],
      "text/markdown": [
       "9.52730643120594"
      ],
      "text/plain": [
       "[1] 9.527306"
      ]
     },
     "metadata": {},
     "output_type": "display_data"
    }
   ],
   "source": [
    "# runif can be used to produce random numbers; runif does not stand for run if.\n",
    "a <- runif(20)\n",
    "# Hallar la suma de a\n",
    "sum(a)"
   ]
  },
  {
   "cell_type": "code",
   "execution_count": 26,
   "metadata": {},
   "outputs": [
    {
     "data": {
      "text/html": [
       "0.3869995737914"
      ],
      "text/latex": [
       "0.3869995737914"
      ],
      "text/markdown": [
       "0.3869995737914"
      ],
      "text/plain": [
       "[1] 0.3869996"
      ]
     },
     "metadata": {},
     "output_type": "display_data"
    },
    {
     "data": {
      "text/html": [
       "0.315011614135776"
      ],
      "text/latex": [
       "0.315011614135776"
      ],
      "text/markdown": [
       "0.315011614135776"
      ],
      "text/plain": [
       "[1] 0.3150116"
      ]
     },
     "metadata": {},
     "output_type": "display_data"
    }
   ],
   "source": [
    "# hallar la media de a\n",
    "median(a)\n",
    "# hallar la desviacion estandar de a\n",
    "sd(a)"
   ]
  },
  {
   "cell_type": "code",
   "execution_count": 29,
   "metadata": {},
   "outputs": [
    {
     "name": "stdout",
     "output_type": "stream",
     "text": [
      "[1] \"0.94\"\n",
      "[1] \"0.30\"\n",
      "[1] \"0.06\"\n",
      "[1] \"0.95\"\n",
      "[1] \"0.72\"\n",
      "[1] \"0.14\"\n",
      "[1] \"0.55\"\n",
      "[1] \"0.95\"\n",
      "[1] \"0.59\"\n",
      "[1] \"0.40\"\n",
      "[1] \"0.65\"\n",
      "[1] \"0.32\"\n",
      "[1] \"0.31\"\n",
      "[1] \"0.22\"\n",
      "[1] \"0.37\"\n",
      "[1] \"0.98\"\n",
      "[1] \"0.15\"\n",
      "[1] \"0.09\"\n",
      "[1] \"0.14\"\n",
      "[1] \"0.69\"\n"
     ]
    }
   ],
   "source": [
    "for(x in a){\n",
    "    print(format(round(x, 2), nsmall = 2))\n",
    "}"
   ]
  },
  {
   "cell_type": "code",
   "execution_count": 32,
   "metadata": {},
   "outputs": [
    {
     "name": "stdout",
     "output_type": "stream",
     "text": [
      "[1] FALSE\n",
      "[1] FALSE\n",
      "[1] TRUE\n",
      "[1] FALSE\n",
      "[1] FALSE\n",
      "[1] TRUE\n",
      "[1] FALSE\n",
      "[1] FALSE\n",
      "[1] FALSE\n",
      "[1] FALSE\n",
      "[1] FALSE\n",
      "[1] FALSE\n",
      "[1] FALSE\n",
      "[1] TRUE\n",
      "[1] FALSE\n",
      "[1] FALSE\n",
      "[1] TRUE\n",
      "[1] TRUE\n",
      "[1] TRUE\n",
      "[1] FALSE\n"
     ]
    }
   ],
   "source": [
    "for(x in a){\n",
    "    if(x <= 0.25){\n",
    "        print(TRUE)\n",
    "    }else {\n",
    "        print(FALSE)\n",
    "    }\n",
    "}"
   ]
  },
  {
   "cell_type": "code",
   "execution_count": 33,
   "metadata": {},
   "outputs": [
    {
     "name": "stdout",
     "output_type": "stream",
     "text": [
      "[1] 2.108194\n"
     ]
    }
   ],
   "source": [
    "s <- 0\n",
    "for(x in a){\n",
    "    if(x <= 0.4){\n",
    "        s <- s + x\n",
    "    }\n",
    "}\n",
    "print(s)"
   ]
  },
  {
   "cell_type": "code",
   "execution_count": 24,
   "metadata": {},
   "outputs": [],
   "source": [
    "# X generates multivariate normal random variates in the space X.\n",
    "b <- rnorm(20)"
   ]
  },
  {
   "cell_type": "code",
   "execution_count": 25,
   "metadata": {},
   "outputs": [
    {
     "data": {
      "text/html": [
       "0.592191213621379"
      ],
      "text/latex": [
       "0.592191213621379"
      ],
      "text/markdown": [
       "0.592191213621379"
      ],
      "text/plain": [
       "[1] 0.5921912"
      ]
     },
     "metadata": {},
     "output_type": "display_data"
    },
    {
     "data": {
      "text/html": [
       "0.0293842063151955"
      ],
      "text/latex": [
       "0.0293842063151955"
      ],
      "text/markdown": [
       "0.0293842063151955"
      ],
      "text/plain": [
       "[1] 0.02938421"
      ]
     },
     "metadata": {},
     "output_type": "display_data"
    },
    {
     "data": {
      "text/html": [
       "0.315011614135776"
      ],
      "text/latex": [
       "0.315011614135776"
      ],
      "text/markdown": [
       "0.315011614135776"
      ],
      "text/plain": [
       "[1] 0.3150116"
      ]
     },
     "metadata": {},
     "output_type": "display_data"
    }
   ],
   "source": [
    "sum(b)\n",
    "median(b)\n",
    "sd(a)"
   ]
  },
  {
   "cell_type": "code",
   "execution_count": 38,
   "metadata": {},
   "outputs": [
    {
     "name": "stdout",
     "output_type": "stream",
     "text": [
      "[1] 6\n"
     ]
    }
   ],
   "source": [
    "s <- 0\n",
    "for(i in 1:20){\n",
    "    if(a[i] < b[i]){\n",
    "      s <- s + 1  \n",
    "    }\n",
    "}\n",
    "print(s)"
   ]
  },
  {
   "cell_type": "code",
   "execution_count": 41,
   "metadata": {},
   "outputs": [
    {
     "name": "stdout",
     "output_type": "stream",
     "text": [
      "[1]  21  12  21  33 331   1  12\n"
     ]
    }
   ],
   "source": [
    "c <- c(1, 1, 1, 3, 3,4)\n",
    "numero_c <- vector()"
   ]
  }
 ],
 "metadata": {
  "kernelspec": {
   "display_name": "R 3.3",
   "language": "R",
   "name": "ir33"
  },
  "language_info": {
   "codemirror_mode": "r",
   "file_extension": ".r",
   "mimetype": "text/x-r-source",
   "name": "R",
   "pygments_lexer": "r",
   "version": "3.6.3"
  }
 },
 "nbformat": 4,
 "nbformat_minor": 2
}
