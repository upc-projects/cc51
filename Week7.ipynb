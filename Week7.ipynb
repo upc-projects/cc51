{
 "cells": [
  {
   "cell_type": "markdown",
   "metadata": {},
   "source": [
    "# Listas"
   ]
  },
  {
   "cell_type": "code",
   "execution_count": 2,
   "metadata": {},
   "outputs": [],
   "source": [
    "song <- list(\"Rsome times\", 190, 5)"
   ]
  },
  {
   "cell_type": "code",
   "execution_count": 4,
   "metadata": {},
   "outputs": [],
   "source": [
    "names(song) <- c(\"title\", \"duration\", \"track\")"
   ]
  },
  {
   "cell_type": "code",
   "execution_count": 6,
   "metadata": {},
   "outputs": [
    {
     "name": "stdout",
     "output_type": "stream",
     "text": [
      "$title\n",
      "[1] \"Rsome times\"\n",
      "\n",
      "$duration\n",
      "[1] 190\n",
      "\n",
      "$track\n",
      "[1] 5\n",
      "\n"
     ]
    }
   ],
   "source": [
    "print(song)"
   ]
  },
  {
   "cell_type": "code",
   "execution_count": 8,
   "metadata": {},
   "outputs": [],
   "source": [
    "song <- list(title = \"Rsome times\",\n",
    "duration = 190,\n",
    "track = 5)"
   ]
  },
  {
   "cell_type": "code",
   "execution_count": 10,
   "metadata": {},
   "outputs": [
    {
     "name": "stdout",
     "output_type": "stream",
     "text": [
      "List of 3\n",
      " $ title   : chr \"Rsome times\"\n",
      " $ duration: num 190\n",
      " $ track   : num 5\n",
      "NULL\n"
     ]
    }
   ],
   "source": [
    "print(str(song))"
   ]
  },
  {
   "cell_type": "code",
   "execution_count": 12,
   "metadata": {},
   "outputs": [],
   "source": [
    "similar_song <- list(title = \"R you on time?\",\n",
    "duration = 230)"
   ]
  },
  {
   "cell_type": "code",
   "execution_count": 13,
   "metadata": {},
   "outputs": [
    {
     "name": "stdout",
     "output_type": "stream",
     "text": [
      "List of 4\n",
      " $ title   : chr \"Rsome times\"\n",
      " $ duration: num 190\n",
      " $ track   : num 5\n",
      " $ similar :List of 2\n",
      "  ..$ title   : chr \"R you on time?\"\n",
      "  ..$ duration: num 230\n",
      "NULL\n"
     ]
    }
   ],
   "source": [
    "song <- list(title = \"Rsome times\",\n",
    "duration = 190, track = 5,\n",
    "similar = similar_song)\n",
    "\n",
    "\n",
    "print(str(song))"
   ]
  }
 ],
 "metadata": {
  "kernelspec": {
   "display_name": "R 3.3",
   "language": "R",
   "name": "ir33"
  },
  "language_info": {
   "codemirror_mode": "r",
   "file_extension": ".r",
   "mimetype": "text/x-r-source",
   "name": "R",
   "pygments_lexer": "r",
   "version": "3.6.3"
  }
 },
 "nbformat": 4,
 "nbformat_minor": 2
}
